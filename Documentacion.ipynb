{
 "cells": [
  {
   "cell_type": "markdown",
   "metadata": {},
   "source": [
    "# ASSIGNMENT:\n",
    "## simulating a highway\n",
    "\n",
    "- discrete event simulation\n",
    "- our goal: to implement a realistic simulation of Avenida General Paz (AGP) from Liniers to Lugones\n",
    "- we want to:\n",
    "- quantify the statistics of travel times and their dependence on maximum legal speed, traffic density, average driver behavior, etc\n",
    "- explore traffic shock waves\n",
    "- introduce a realistic mechanism for infrequent collisions and recovery\n",
    "- quantify the probability of an accident in the next ten minutes for a driver that is surrounded by high density traffic\n",
    "- think how to improve welfare (tolls, broadcasting, fines, etc) model changing lanes. cars sharing the road with trucks. mix humans with self-driving cars\n",
    "- anything else that you might find interesting and non trivial\n",
    "\n",
    "### how do you drive?\n",
    "\n",
    "- what information do you use when driving?\n",
    "- what actions do you take when driving?\n",
    "- what constraints do you face?\n",
    "- how rapidly do you react when driving?\n",
    "\n",
    "### agents in a highway\n",
    "\n",
    "- what is a natural definition for an agent?\n",
    "- what is a reasonable goal for an agent?\n",
    "- what are the state variables that describe the state of an agent?\n",
    "- what information is available to an agent?\n",
    "- is there randomness in the behavior of an agent?\n",
    "\n",
    "### the environment\n",
    "\n",
    "- how can Avenida Gral Paz (AGP) be represented? dimensions for AGP?\n",
    "- how many lanes?\n",
    "- how do cars enter / exit AGP?\n",
    "\n",
    "### coding the model\n",
    "\n",
    "- how do we represent a collection of cars in AGP?\n",
    "- how do we measure distance?\n",
    "- what is the initial state of the highway?\n",
    "- how do we represent the passage of time? reasonable clock?\n",
    "- how do we represent the movement of cars?\n",
    "- what is the quantitative outcome of our simulation?\n",
    "\n"
   ]
  },
  {
   "cell_type": "markdown",
   "metadata": {},
   "source": [
    "---"
   ]
  },
  {
   "cell_type": "markdown",
   "metadata": {},
   "source": [
    "# **Introducción**\n",
    "La simulación de una autopista se realiza utilizando programación orientada a objetos con dos clases principales: **Auto** y **Ruta**. El objetivo de esta simulación es modelar de manera realista el comportamiento del tráfico en una autopista similar a Avenida General Paz (AGP) desde Liniers hasta Lugones. A continuación, se describen las clases y cómo interactúan entre sí.\n",
    "\n",
    "# **Clase Auto**\n",
    "La clase **Auto** representa un vehículo en la simulación de tráfico. Cada instancia de esta clase simula el comportamiento de un automóvil en movimiento a lo largo de la carretera. Aquí se describen sus principales atributos y métodos:\n",
    "\n",
    "### **Atributos Principales:**\n",
    "- **x**: La posición actual en el eje x (horizontal) de la carretera.\n",
    "- **y**: La posición actual en el eje y (vertical) de la carretera (no utilizado en la versión actual).\n",
    "- **velocidad**: La velocidad actual del automóvil.\n",
    "- **color**: El color del automóvil (potencialmente utilizado para la visualización).\n",
    "- **nombre**: Un identificador único para el automóvil.\n",
    "- **x_max**: La posición máxima en el eje x que marca el final de la carretera.\n",
    "- **auto_siguiente**: Una referencia al automóvil siguiente en el mismo carril (lane).\n",
    "- **velocidad_promedio**: La velocidad promedio utilizada para la aceleración.\n",
    "- Otros atributos relacionados con la simulación de comportamiento, como tiempos de reacción, aceleración máxima y frenado máximo.\n",
    "\n",
    "### **Métodos Clave:**\n",
    "- **chocaste()**: Simula una colisión al dormir durante un período de tiempo para representar el retraso causado por un accidente.\n",
    "- **avanzar()**: Simula el avance del automóvil en la carretera. El automóvil puede acelerar, desacelerar o mantenerse estacionario según su estado y las condiciones circundantes.\n",
    "- **acelerar()**: Simula la aceleración y desaceleración del automóvil. El automóvil ajusta su velocidad en función de la presencia de otros automóviles (el siguiente automóvil) y factores como la velocidad promedio.\n",
    "#### Explicación de las Elecciones de Distribuciones:\n",
    "- **random.normalvariate:** Se utiliza para agregar fluctuaciones aleatorias a la aceleración. Esta distribución se emplea para simular las variaciones naturales en la aceleración de los vehículos.\n",
    "\n",
    "- **random.lognormvariate:** Se utiliza para modelar los límites de aceleración y desaceleración máximos, ya que estos límites pueden variar y suelen tener una distribución logarítmica normal. Esta elección permite capturar la variabilidad inherente en estos límites.\n",
    "\n",
    "- **random.uniform:** Se utiliza para simular la distracción del conductor con retrasos variables. La distracción del conductor puede manifestarse con diferentes niveles de interrupción, y esta distribución se emplea para representar esos retrasos aleatorios en la atención del conductor.\n",
    "\n",
    "\n",
    "### **Interacción con el Entorno:**\n",
    "- Cada instancia de **Auto** interactúa con el entorno (**Ruta**) al avanzar a lo largo de la carretera y al detectar colisiones con otros automóviles.\n",
    "- Los automóviles siguientes (**auto_siguiente**) se utilizan para calcular la distancia y la velocidad relativa, lo que afecta el comportamiento de aceleración y desaceleración.\n",
    "\n",
    "# **Clase Ruta**\n",
    "La clase **Ruta** representa el entorno o la carretera de la simulación de tráfico. Aquí se describen sus atributos y métodos principales:\n",
    "\n",
    "### **Atributos Principales:**\n",
    "- **autos**: Una lista de automóviles que están presentes en la carretera en un momento dado.\n",
    "- **x_max**: La posición máxima en el eje x que marca el final de la carretera.\n",
    "- **ids_historicos**: Una lista que registra los identificadores únicos de los automóviles históricos.\n",
    "- **contador_colisiones**: El recuento de colisiones entre automóviles.\n",
    "- **contador_finalizados**: El recuento de automóviles que han llegado al final de la carretera.\n",
    "- **total_autos_generados**: El recuento total de automóviles generados en la simulación.\n",
    "- **velocidades_promedio_historicas**: Una lista que registra las velocidades medias históricas de los automóviles.\n",
    "- **duracion_viaje_historica**: Una lista que registra las duraciones de viaje históricas de los automóviles.\n",
    "- **datos**: Un DataFrame de Pandas que almacena datos detallados sobre el rendimiento de los automóviles.\n",
    "- **datos_velocidad**: Un DataFrame de Pandas que almacena datos sobre la velocidad de los automóviles a lo largo del tiempo.\n",
    "\n",
    "### **Métodos Clave:**\n",
    "- **eliminar_colisiones(tiempo)**: Este método se ejecuta en un hilo separado y se encarga de eliminar automóviles que hayan colisionado o que hayan llegado al final de la carretera. También actualiza las estadísticas relacionadas con colisiones, velocidades promedio y tiempos de viaje.\n",
    "- **actualizar(frame)**: Actualiza la visualización de la simulación y las anotaciones de texto que muestran estadísticas en tiempo real.\n",
    "- **animar()**: Inicializa y muestra la animación de la simulación de tráfico.\n",
    "- **generar_autos(tiempo)**: Este método se ejecuta en un hilo separado y se encarga de generar nuevos automóviles y agregarlos a la simulación en intervalos aleatorios.\n",
    "- **guardar_datos_auto(auto)**: Registra y guarda datos detallados sobre el rendimiento de un automóvil en la simulación.\n",
    "\n",
    "# **Relación entre Agentes y Entorno**\n",
    "### **Agentes (Autos):**\n",
    "- Los agentes en esta simulación son instancias de la clase **Auto**.\n",
    "- Cada agente representa un automóvil individual en la carretera.\n",
    "- Los agentes interactúan entre sí a través de la detección de colisiones y el cálculo de la distancia y la velocidad relativa con el automóvil siguiente.\n",
    "\n",
    "### **Entorno (Ruta):**\n",
    "- El entorno en esta simulación se representa mediante la clase **Ruta**.\n",
    "- La clase **Ruta** maneja y controla la simulación en su conjunto, incluida la gestión de múltiples agentes (automóviles).\n",
    "- El entorno recopila y registra estadísticas sobre el rendimiento de los agentes, como colisiones, velocidades promedio y tiempos de viaje.\n",
    "- Los agentes (autos) interactúan con el entorno a través de la adición y eliminación de automóviles en la carretera, así como la actualización de estadísticas y visualización.\n"
   ]
  },
  {
   "cell_type": "markdown",
   "metadata": {},
   "source": []
  },
  {
   "cell_type": "markdown",
   "metadata": {},
   "source": [
    "eliminar_choques(self, tiempo): This function manages the removal of cars that have either collided or finished their trip from the simulation. It updates statistics related to collisions, mean velocities, trip durations, and more. The procedure involves iterating through the cars, checking their status, and performing necessary actions."
   ]
  },
  {
   "cell_type": "markdown",
   "metadata": {},
   "source": [
    "update(): This function updates the visualization of the simulation and associated text annotations. It advances the car positions, calculates statistics, and maintains consistency in the data. The procedure includes iterating through cars, updating text annotations, and managing data for analysis."
   ]
  },
  {
   "cell_type": "markdown",
   "metadata": {},
   "source": [
    "animar():This function initializes and displays the animation of the simulation using Matplotlib's FuncAnimation. It specifies the animation parameters and initiates the display."
   ]
  },
  {
   "cell_type": "markdown",
   "metadata": {},
   "source": [
    "generar_auto():This function generates new cars and adds them to the simulation at random intervals to simulate the arrival of new vehicles. It creates random pause times between car arrivals and ensures that each car has a unique name. The procedure involves creating new car objects with specified characteristics and handling errors if car creation fails."
   ]
  },
  {
   "cell_type": "markdown",
   "metadata": {},
   "source": [
    "guardar_datos_auto(): This function records and saves data about a car's performance in the simulation. It creates a dictionary containing information about the car's ID, mean velocity, trip duration, collision status, reaction time, and the number of cars in the current frame. The data is added as a new row to the 'data' DataFrame and saved as a CSV file for further analysis."
   ]
  }
 ],
 "metadata": {
  "language_info": {
   "name": "python"
  },
  "orig_nbformat": 4
 },
 "nbformat": 4,
 "nbformat_minor": 2
}
